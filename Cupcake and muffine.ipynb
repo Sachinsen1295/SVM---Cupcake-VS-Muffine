{
 "cells": [
  {
   "cell_type": "code",
   "execution_count": 1,
   "id": "a21c891c",
   "metadata": {},
   "outputs": [],
   "source": [
    "## Import libraries\n",
    "\n",
    "import numpy as np\n",
    "import pandas as pd\n",
    "import matplotlib.pyplot as plt\n",
    "import seaborn as sns\n",
    "%matplotlib inline\n",
    "import warnings\n",
    "warnings.filterwarnings('ignore')"
   ]
  },
  {
   "cell_type": "code",
   "execution_count": 3,
   "id": "9bdafe9c",
   "metadata": {},
   "outputs": [
    {
     "data": {
      "text/plain": [
       "(20, 9)"
      ]
     },
     "execution_count": 3,
     "metadata": {},
     "output_type": "execute_result"
    }
   ],
   "source": [
    "#import data set\n",
    "\n",
    "bakery = pd.read_csv(r'/Users/sachinsen/Library/CloudStorage/OneDrive-Personal/Mac/Data Analyst course/Upgrade - Data Analyst/Projects/Simplilearn/Practice/Data Set/Cupcake Vs muffine.csv')\n",
    "bakery.shape"
   ]
  },
  {
   "cell_type": "code",
   "execution_count": 4,
   "id": "47009cfa",
   "metadata": {},
   "outputs": [
    {
     "data": {
      "text/html": [
       "<div>\n",
       "<style scoped>\n",
       "    .dataframe tbody tr th:only-of-type {\n",
       "        vertical-align: middle;\n",
       "    }\n",
       "\n",
       "    .dataframe tbody tr th {\n",
       "        vertical-align: top;\n",
       "    }\n",
       "\n",
       "    .dataframe thead th {\n",
       "        text-align: right;\n",
       "    }\n",
       "</style>\n",
       "<table border=\"1\" class=\"dataframe\">\n",
       "  <thead>\n",
       "    <tr style=\"text-align: right;\">\n",
       "      <th></th>\n",
       "      <th>Type</th>\n",
       "      <th>Flour</th>\n",
       "      <th>Milk</th>\n",
       "      <th>Sugar</th>\n",
       "      <th>Butter</th>\n",
       "      <th>Egg</th>\n",
       "      <th>Baking Powder</th>\n",
       "      <th>Vanilla</th>\n",
       "      <th>Salt</th>\n",
       "    </tr>\n",
       "  </thead>\n",
       "  <tbody>\n",
       "    <tr>\n",
       "      <th>0</th>\n",
       "      <td>Muffin</td>\n",
       "      <td>55</td>\n",
       "      <td>28</td>\n",
       "      <td>3</td>\n",
       "      <td>7</td>\n",
       "      <td>5</td>\n",
       "      <td>2</td>\n",
       "      <td>0</td>\n",
       "      <td>0</td>\n",
       "    </tr>\n",
       "    <tr>\n",
       "      <th>1</th>\n",
       "      <td>Muffin</td>\n",
       "      <td>47</td>\n",
       "      <td>24</td>\n",
       "      <td>12</td>\n",
       "      <td>6</td>\n",
       "      <td>9</td>\n",
       "      <td>1</td>\n",
       "      <td>0</td>\n",
       "      <td>0</td>\n",
       "    </tr>\n",
       "    <tr>\n",
       "      <th>2</th>\n",
       "      <td>Muffin</td>\n",
       "      <td>47</td>\n",
       "      <td>23</td>\n",
       "      <td>18</td>\n",
       "      <td>6</td>\n",
       "      <td>4</td>\n",
       "      <td>1</td>\n",
       "      <td>0</td>\n",
       "      <td>0</td>\n",
       "    </tr>\n",
       "    <tr>\n",
       "      <th>3</th>\n",
       "      <td>Muffin</td>\n",
       "      <td>45</td>\n",
       "      <td>11</td>\n",
       "      <td>17</td>\n",
       "      <td>17</td>\n",
       "      <td>8</td>\n",
       "      <td>1</td>\n",
       "      <td>0</td>\n",
       "      <td>0</td>\n",
       "    </tr>\n",
       "    <tr>\n",
       "      <th>4</th>\n",
       "      <td>Muffin</td>\n",
       "      <td>50</td>\n",
       "      <td>25</td>\n",
       "      <td>12</td>\n",
       "      <td>6</td>\n",
       "      <td>5</td>\n",
       "      <td>2</td>\n",
       "      <td>1</td>\n",
       "      <td>0</td>\n",
       "    </tr>\n",
       "  </tbody>\n",
       "</table>\n",
       "</div>"
      ],
      "text/plain": [
       "     Type  Flour  Milk  Sugar  Butter  Egg  Baking Powder  Vanilla  Salt\n",
       "0  Muffin     55    28      3       7    5              2        0     0\n",
       "1  Muffin     47    24     12       6    9              1        0     0\n",
       "2  Muffin     47    23     18       6    4              1        0     0\n",
       "3  Muffin     45    11     17      17    8              1        0     0\n",
       "4  Muffin     50    25     12       6    5              2        1     0"
      ]
     },
     "execution_count": 4,
     "metadata": {},
     "output_type": "execute_result"
    }
   ],
   "source": [
    "bakery.head()"
   ]
  },
  {
   "cell_type": "code",
   "execution_count": 8,
   "id": "2fabeb6e",
   "metadata": {},
   "outputs": [
    {
     "data": {
      "text/plain": [
       "<AxesSubplot:xlabel='Flour', ylabel='Sugar'>"
      ]
     },
     "execution_count": 8,
     "metadata": {},
     "output_type": "execute_result"
    },
    {
     "data": {
      "image/png": "[encoded data removed]",
      "text/plain": [
       "<Figure size 432x288 with 1 Axes>"
      ]
     },
     "metadata": {
      "needs_background": "light"
     },
     "output_type": "display_data"
    }
   ],
   "source": [
    "sns.scatterplot(data=bakery , x='Flour', y='Sugar', hue = 'Type')"
   ]
  },
  {
   "cell_type": "code",
   "execution_count": 9,
   "id": "0dfa37bc",
   "metadata": {},
   "outputs": [
    {
     "data": {
      "text/plain": [
       "Type             0\n",
       "Flour            0\n",
       "Milk             0\n",
       "Sugar            0\n",
       "Butter           0\n",
       "Egg              0\n",
       "Baking Powder    0\n",
       "Vanilla          0\n",
       "Salt             0\n",
       "dtype: int64"
      ]
     },
     "execution_count": 9,
     "metadata": {},
     "output_type": "execute_result"
    }
   ],
   "source": [
    "bakery.isnull().sum()"
   ]
  },
  {
   "cell_type": "code",
   "execution_count": 10,
   "id": "7ab00e2b",
   "metadata": {},
   "outputs": [
    {
     "data": {
      "text/plain": [
       "array([0, 0, 0, 0, 0, 0, 0, 0, 0, 0, 1, 1, 1, 1, 1, 1, 1, 1, 1, 1])"
      ]
     },
     "execution_count": 10,
     "metadata": {},
     "output_type": "execute_result"
    }
   ],
   "source": [
    "## Preprocesing of data\n",
    "Type_label = np.where(bakery['Type']=='Muffin',0,1)\n",
    "Type_label\n"
   ]
  },
  {
   "cell_type": "code",
   "execution_count": 15,
   "id": "eb096cdb",
   "metadata": {},
   "outputs": [
    {
     "data": {
      "text/plain": [
       "['Flour', 'Milk', 'Sugar', 'Butter', 'Egg', 'Baking Powder', 'Vanilla', 'Salt']"
      ]
     },
     "execution_count": 15,
     "metadata": {},
     "output_type": "execute_result"
    }
   ],
   "source": [
    "bakery_features = bakery.columns.values[1:].tolist()\n",
    "bakery_features"
   ]
  },
  {
   "cell_type": "code",
   "execution_count": 21,
   "id": "f2d0c71c",
   "metadata": {},
   "outputs": [
    {
     "data": {
      "text/plain": [
       "array([[55,  3],\n",
       "       [47, 12],\n",
       "       [47, 18],\n",
       "       [45, 17],\n",
       "       [50, 12],\n",
       "       [55,  3],\n",
       "       [54,  7],\n",
       "       [47, 10],\n",
       "       [50, 17],\n",
       "       [50, 17],\n",
       "       [39, 26],\n",
       "       [42, 16],\n",
       "       [34, 20],\n",
       "       [39, 17],\n",
       "       [38, 23],\n",
       "       [42, 25],\n",
       "       [36, 21],\n",
       "       [38, 31],\n",
       "       [36, 24],\n",
       "       [34, 23]])"
      ]
     },
     "execution_count": 21,
     "metadata": {},
     "output_type": "execute_result"
    }
   ],
   "source": [
    "ingredients = bakery[['Flour','Sugar']].values\n",
    "ingredients"
   ]
  },
  {
   "cell_type": "code",
   "execution_count": 22,
   "id": "786e2b42",
   "metadata": {},
   "outputs": [],
   "source": [
    "## Import model\n",
    "\n",
    "from sklearn import svm"
   ]
  },
  {
   "cell_type": "code",
   "execution_count": 25,
   "id": "c5bc5f49",
   "metadata": {},
   "outputs": [
    {
     "data": {
      "text/plain": [
       "SVC(kernel='linear')"
      ]
     },
     "execution_count": 25,
     "metadata": {},
     "output_type": "execute_result"
    }
   ],
   "source": [
    "## fit_model\n",
    "\n",
    "model = svm.SVC(kernel='linear')\n",
    "\n",
    "model.fit(ingredients,Type_label)"
   ]
  },
  {
   "cell_type": "code",
   "execution_count": 32,
   "id": "4bdd0e64",
   "metadata": {},
   "outputs": [
    {
     "data": {
      "text/plain": [
       "array([ 1.15779472e+16,  1.10528750e+16,  1.05278028e+16,  1.00027306e+16,\n",
       "        9.47765844e+15,  8.95258624e+15,  8.42751405e+15,  7.90244185e+15,\n",
       "        7.37736965e+15,  6.85229746e+15,  6.32722526e+15,  5.80215306e+15,\n",
       "        5.27708087e+15,  4.75200867e+15,  4.22693647e+15,  3.70186428e+15,\n",
       "        3.17679208e+15,  2.65171988e+15,  2.12664769e+15,  1.60157549e+15,\n",
       "        1.07650329e+15,  5.51431096e+14,  2.63588995e+13, -4.98713297e+14,\n",
       "       -1.02378549e+15, -1.54885769e+15, -2.07392989e+15, -2.59900208e+15,\n",
       "       -3.12407428e+15, -3.64914648e+15, -4.17421867e+15, -4.69929087e+15,\n",
       "       -5.22436307e+15, -5.74943526e+15, -6.27450746e+15, -6.79957966e+15,\n",
       "       -7.32465185e+15, -7.84972405e+15, -8.37479625e+15, -8.89986844e+15,\n",
       "       -9.42494064e+15, -9.95001284e+15, -1.04750850e+16, -1.10001572e+16,\n",
       "       -1.15252294e+16, -1.20503016e+16, -1.25753738e+16, -1.31004460e+16,\n",
       "       -1.36255182e+16, -1.41505904e+16])"
      ]
     },
     "execution_count": 32,
     "metadata": {},
     "output_type": "execute_result"
    }
   ],
   "source": [
    "## get the seperating hyperplane\n",
    "\n",
    "w= model.coef_[0]\n",
    "a= -w[0]/w[1]\n",
    "xx= np.linspace(30,60)\n",
    "yy= a*xx - (model.intercept_[0]/w[1])\n",
    "yy"
   ]
  },
  {
   "cell_type": "code",
   "execution_count": 39,
   "id": "c0b6cd4e",
   "metadata": {},
   "outputs": [
    {
     "data": {
      "text/plain": [
       "array([ 1.02914151e+16,  9.76634286e+15,  9.24127066e+15,  8.71619846e+15,\n",
       "        8.19112627e+15,  7.66605407e+15,  7.14098187e+15,  6.61590968e+15,\n",
       "        6.09083748e+15,  5.56576528e+15,  5.04069309e+15,  4.51562089e+15,\n",
       "        3.99054869e+15,  3.46547650e+15,  2.94040430e+15,  2.41533210e+15,\n",
       "        1.89025991e+15,  1.36518771e+15,  8.40115515e+14,  3.15043318e+14,\n",
       "       -2.10028879e+14, -7.35101075e+14, -1.26017327e+15, -1.78524547e+15,\n",
       "       -2.31031767e+15, -2.83538986e+15, -3.36046206e+15, -3.88553426e+15,\n",
       "       -4.41060645e+15, -4.93567865e+15, -5.46075085e+15, -5.98582304e+15,\n",
       "       -6.51089524e+15, -7.03596743e+15, -7.56103963e+15, -8.08611183e+15,\n",
       "       -8.61118402e+15, -9.13625622e+15, -9.66132842e+15, -1.01864006e+16,\n",
       "       -1.07114728e+16, -1.12365450e+16, -1.17616172e+16, -1.22866894e+16,\n",
       "       -1.28117616e+16, -1.33368338e+16, -1.38619060e+16, -1.43869782e+16,\n",
       "       -1.49120504e+16, -1.54371226e+16])"
      ]
     },
     "execution_count": 39,
     "metadata": {},
     "output_type": "execute_result"
    }
   ],
   "source": [
    "## plot the seperate parrallelto the seperating hyperplane that pass through the support vector\n",
    "\n",
    "b= model.support_vectors_[0]\n",
    "yy_down = a*xx + (b[1]) - a*b[0]\n",
    "b = model.support_vectors_[1]\n",
    "yy_up = a*xx + (b[1]) - a*b[0]\n",
    "yy_up"
   ]
  },
  {
   "cell_type": "code",
   "execution_count": 44,
   "id": "0e2147e7",
   "metadata": {},
   "outputs": [
    {
     "data": {
      "text/plain": [
       "[<matplotlib.lines.Line2D at 0x7fcb87cfbc40>]"
      ]
     },
     "execution_count": 44,
     "metadata": {},
     "output_type": "execute_result"
    },
    {
     "data": {
      "image/png": "[encoded data removed]",
      "text/plain": [
       "<Figure size 432x288 with 1 Axes>"
      ]
     },
     "metadata": {
      "needs_background": "light"
     },
     "output_type": "display_data"
    }
   ],
   "source": [
    "sns.scatterplot(data=bakery , x='Flour', y='Sugar', hue = 'Type')\n",
    "plt.plot(xx,yy, color ='black')\n",
    "plt.plot(xx, yy_down , 'k--')\n",
    "plt.plot(xx, yy_up , 'k--')\n"
   ]
  },
  {
   "cell_type": "code",
   "execution_count": 63,
   "id": "867354cd",
   "metadata": {},
   "outputs": [
    {
     "name": "stdout",
     "output_type": "stream",
     "text": [
      "receipy is of cupcake\n",
      "None\n"
     ]
    }
   ],
   "source": [
    "## create a function \n",
    "\n",
    "def muffin_or_cupcake(flour,sugar):\n",
    "    if (model.predict([[flour,sugar]]))==0:\n",
    "        print('receipy is of muffin')\n",
    "    else:\n",
    "        print('receipy is of cupcake')\n",
    "\n",
    "print(muffin_or_cupcake(40,20))   "
   ]
  },
  {
   "cell_type": "code",
   "execution_count": 53,
   "id": "7a605387",
   "metadata": {},
   "outputs": [
    {
     "name": "stdout",
     "output_type": "stream",
     "text": [
      "receipy is of muffin\n",
      "None\n"
     ]
    }
   ],
   "source": [
    "print(muffin_or_cupcake(50,30))"
   ]
  },
  {
   "cell_type": "code",
   "execution_count": 62,
   "id": "60bf8521",
   "metadata": {},
   "outputs": [
    {
     "data": {
      "text/plain": [
       "[<matplotlib.lines.Line2D at 0x7fcb7122b580>]"
      ]
     },
     "execution_count": 62,
     "metadata": {},
     "output_type": "execute_result"
    },
    {
     "data": {
      "image/png": "[encoded data removed]",
      "text/plain": [
       "<Figure size 432x288 with 1 Axes>"
      ]
     },
     "metadata": {
      "needs_background": "light"
     },
     "output_type": "display_data"
    }
   ],
   "source": [
    "sns.scatterplot(data=bakery , x='Flour', y='Sugar', hue = 'Type')\n",
    "plt.plot(xx,yy, color ='black')\n",
    "plt.plot(50,30, 'yo', markersize = '10')"
   ]
  },
  {
   "cell_type": "code",
   "execution_count": null,
   "id": "75cf14aa",
   "metadata": {},
   "outputs": [],
   "source": []
  }
 ],
 "metadata": {
  "kernelspec": {
   "display_name": "Python 3 (ipykernel)",
   "language": "python",
   "name": "python3"
  },
  "language_info": {
   "codemirror_mode": {
    "name": "ipython",
    "version": 3
   },
   "file_extension": ".py",
   "mimetype": "text/x-python",
   "name": "python",
   "nbconvert_exporter": "python",
   "pygments_lexer": "ipython3",
   "version": "3.9.12"
  }
 },
 "nbformat": 4,
 "nbformat_minor": 5
}
